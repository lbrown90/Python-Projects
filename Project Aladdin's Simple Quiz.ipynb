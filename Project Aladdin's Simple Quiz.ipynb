{
 "cells": [
  {
   "cell_type": "code",
   "execution_count": 1,
   "metadata": {},
   "outputs": [
    {
     "name": "stdout",
     "output_type": "stream",
     "text": [
      "Welcome to Aladdin's Quiz!\n",
      "Would you like to play? Yes\n",
      "What is your name? jade\n",
      "Awesome let's get started!!! jade\n",
      "Question #1: \n",
      "Where does Aladdin take place? space\n",
      "Incorrect!\n",
      "Question #2: \n",
      "What is the name of Jasmine's pet tiger? puma\n",
      "Incorrect!\n",
      "Question #3: \n",
      "What's the name of Aladdin's monkey? abu\n",
      "Correct!\n"
     ]
    }
   ],
   "source": [
    "#Introduction\n",
    "print(\"Welcome to Aladdin's Quiz!\")\n",
    "play_game = input(\"Would you like to play? \") #Ask user a question\n",
    "user_name = input(\"What is your name? \")\n",
    "if play_game.lower() == \"yes\":\n",
    "    print(\"Awesome let's get started!!! \" + user_name)\n",
    "else:\n",
    "    quit() # stop game if user does not want to play\n",
    "    \n",
    "# Question 1    \n",
    "print(\"Question #1: \")\n",
    "\n",
    "user_question = input(\"Where does Aladdin take place? \")\n",
    "if user_question.lower() == \"agrabah\":\n",
    "    print(\"Correct!\")\n",
    "else:\n",
    "    print(\"Incorrect!\")\n",
    "\n",
    "# Question 2  \n",
    "print(\"Question #2: \")\n",
    "\n",
    "user_question = input(\"What is the name of Jasmine's pet tiger? \")\n",
    "if user_question.lower() == \"rajah\":\n",
    "    print(\"Correct!\")\n",
    "else:\n",
    "    print(\"Incorrect!\")\n",
    "    \n",
    "# Question 3  \n",
    "print(\"Question #3: \")\n",
    "\n",
    "user_question = input(\"What's the name of Aladdin's monkey? \")\n",
    "if user_question.lower() == \"abu\":\n",
    "    print(\"Correct!\")\n",
    "else:\n",
    "    print(\"Incorrect!\")\n"
   ]
  },
  {
   "cell_type": "code",
   "execution_count": null,
   "metadata": {},
   "outputs": [],
   "source": []
  }
 ],
 "metadata": {
  "kernelspec": {
   "display_name": "Python 3",
   "language": "python",
   "name": "python3"
  },
  "language_info": {
   "codemirror_mode": {
    "name": "ipython",
    "version": 3
   },
   "file_extension": ".py",
   "mimetype": "text/x-python",
   "name": "python",
   "nbconvert_exporter": "python",
   "pygments_lexer": "ipython3",
   "version": "3.8.5"
  }
 },
 "nbformat": 4,
 "nbformat_minor": 4
}
